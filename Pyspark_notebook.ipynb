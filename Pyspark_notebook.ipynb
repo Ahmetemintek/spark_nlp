{
 "cells": [
  {
   "cell_type": "markdown",
   "id": "7ad0626e",
   "metadata": {},
   "source": [
    "# PySpark: Fundamentals\n",
    "SparkContext is an entry point to spark world. <br/>\n",
    "It ensures connecting with cluster. "
   ]
  },
  {
   "cell_type": "code",
   "execution_count": 7,
   "id": "47a431f5",
   "metadata": {},
   "outputs": [],
   "source": [
    "from pyspark import SparkContext\n",
    "from pyspark.sql import SQLContext\n",
    "import warnings"
   ]
  },
  {
   "cell_type": "code",
   "execution_count": 59,
   "id": "04de928e",
   "metadata": {},
   "outputs": [],
   "source": [
    "sc= SparkContext(appName=\"SDDM\", master=\"local[*]\")\n",
    "sc= SparkContext.getOrCreate()\n",
    "sqlContext= SQLContext(sc)\n",
    "# sc.stop()   #when we are done. Never forget it !!!"
   ]
  },
  {
   "cell_type": "code",
   "execution_count": 14,
   "id": "3a99c8b8",
   "metadata": {},
   "outputs": [
    {
     "name": "stdout",
     "output_type": "stream",
     "text": [
      "Version of SparkContext: 2.4.4\n",
      "Python version of Sparkcontext: 3.7\n",
      "URL of the cluster or local mode of cluster: local[*]\n"
     ]
    }
   ],
   "source": [
    "print(\"Version of SparkContext: {}\".format(sc.version))\n",
    "print(\"Python version of Sparkcontext: {}\".format(sc.pythonVer))\n",
    "print(\"URL of the cluster or local mode of cluster: {}\".format(sc.master))"
   ]
  },
  {
   "cell_type": "markdown",
   "id": "ed661e14",
   "metadata": {},
   "source": [
    "### RDDs"
   ]
  },
  {
   "cell_type": "markdown",
   "id": "77f7feb2",
   "metadata": {},
   "source": [
    "Creating RDDs from python:"
   ]
  },
  {
   "cell_type": "code",
   "execution_count": 16,
   "id": "3faacb31",
   "metadata": {},
   "outputs": [
    {
     "name": "stdout",
     "output_type": "stream",
     "text": [
      "ParallelCollectionRDD[2] at parallelize at PythonRDD.scala:195\n",
      "ParallelCollectionRDD[3] at parallelize at PythonRDD.scala:195\n"
     ]
    }
   ],
   "source": [
    "numRDD= sc.parallelize([1,2,3,4])\n",
    "helloRDD= sc.parallelize(\"hello spark\")\n",
    "print(numRDD)\n",
    "print(helloRDD)"
   ]
  },
  {
   "cell_type": "code",
   "execution_count": 18,
   "id": "1b26ad6d",
   "metadata": {},
   "outputs": [
    {
     "name": "stdout",
     "output_type": "stream",
     "text": [
      "<class 'pyspark.rdd.RDD'>\n",
      "<class 'pyspark.rdd.RDD'>\n"
     ]
    }
   ],
   "source": [
    "print(type(numRDD))\n",
    "print(type(helloRDD))"
   ]
  },
  {
   "cell_type": "code",
   "execution_count": 19,
   "id": "8420428d",
   "metadata": {},
   "outputs": [
    {
     "data": {
      "text/plain": [
       "[1, 2, 3, 4]"
      ]
     },
     "execution_count": 19,
     "metadata": {},
     "output_type": "execute_result"
    }
   ],
   "source": [
    "numRDD.collect()"
   ]
  },
  {
   "cell_type": "code",
   "execution_count": 20,
   "id": "c4eb9cd9",
   "metadata": {},
   "outputs": [
    {
     "data": {
      "text/plain": [
       "['h', 'e', 'l', 'l', 'o', ' ', 's', 'p', 'a', 'r', 'k']"
      ]
     },
     "execution_count": 20,
     "metadata": {},
     "output_type": "execute_result"
    }
   ],
   "source": [
    "helloRDD.collect()"
   ]
  },
  {
   "cell_type": "code",
   "execution_count": 27,
   "id": "f9bbaee8",
   "metadata": {},
   "outputs": [
    {
     "data": {
      "text/plain": [
       "['YASAMAK SAKAYA GELMEZ,',\n",
       " 'BÜYÜK BİR CİDDİYETLE YASAYACAKSIN',\n",
       " 'BİR SİNCAP GİBİ MESELA,',\n",
       " 'YANI, YASAMIN DIŞINDA VE ÖTESİNDE HİÇBİR ŞEY BEKLEMEDEN',\n",
       " 'YANI, BÜTÜN İŞİN GÜCÜN YASAMAK OLACAK.']"
      ]
     },
     "execution_count": 27,
     "metadata": {},
     "output_type": "execute_result"
    }
   ],
   "source": [
    "rdd2= sc.textFile(\"/Users/ahmetemintek/Desktop/new_pyspark/example_text.txt\")\n",
    "rdd2.collect()"
   ]
  },
  {
   "cell_type": "code",
   "execution_count": 28,
   "id": "c462d704",
   "metadata": {},
   "outputs": [
    {
     "data": {
      "text/plain": [
       "5"
      ]
     },
     "execution_count": 28,
     "metadata": {},
     "output_type": "execute_result"
    }
   ],
   "source": [
    "rdd2.count() #returns line numbers"
   ]
  },
  {
   "cell_type": "code",
   "execution_count": 29,
   "id": "5ba912a0",
   "metadata": {},
   "outputs": [
    {
     "data": {
      "text/plain": [
       "['YASAMAK SAKAYA GELMEZ,',\n",
       " 'BÜYÜK BİR CİDDİYETLE YASAYACAKSIN',\n",
       " 'BİR SİNCAP GİBİ MESELA,']"
      ]
     },
     "execution_count": 29,
     "metadata": {},
     "output_type": "execute_result"
    }
   ],
   "source": [
    "rdd2.collect()[:3]"
   ]
  },
  {
   "cell_type": "code",
   "execution_count": 33,
   "id": "c8382b69",
   "metadata": {},
   "outputs": [
    {
     "name": "stdout",
     "output_type": "stream",
     "text": [
      "5\n",
      "[22, 33, 23, 55, 38]\n"
     ]
    }
   ],
   "source": [
    "lineLenght= rdd2.map(lambda x: len(x))\n",
    "print(lineLenght.count())\n",
    "print(lineLenght.collect())"
   ]
  },
  {
   "cell_type": "code",
   "execution_count": 39,
   "id": "f0eee8b4",
   "metadata": {},
   "outputs": [
    {
     "data": {
      "text/plain": [
       "['file:/Users/ahmetemintek/Desktop/new_pyspark/example_text.txt',\n",
       " 'file:/Users/ahmetemintek/Desktop/new_pyspark/Untitled.ipynb',\n",
       " 'file:/Users/ahmetemintek/Desktop/new_pyspark/example_text2.txt']"
      ]
     },
     "execution_count": 39,
     "metadata": {},
     "output_type": "execute_result"
    }
   ],
   "source": [
    "rdd3= sc.wholeTextFiles(\"/Users/ahmetemintek/Desktop/new_pyspark\", 5)\n",
    "rdd3.keys().collect()"
   ]
  },
  {
   "cell_type": "markdown",
   "id": "efd2b0ff",
   "metadata": {},
   "source": [
    "### Functions "
   ]
  },
  {
   "cell_type": "markdown",
   "id": "a320d62b",
   "metadata": {},
   "source": [
    "Lambda functions are anonymous functions in python. Quite efective with map() and filter() functions.  \n",
    "\n",
    "**Transformations (lazy evaluations):** <br/>\n",
    "map() : this applies a function to ***all elements*** in RDD. "
   ]
  },
  {
   "cell_type": "code",
   "execution_count": 41,
   "id": "04e64b71",
   "metadata": {},
   "outputs": [
    {
     "data": {
      "text/plain": [
       "[1, 4, 9, 16]"
      ]
     },
     "execution_count": 41,
     "metadata": {},
     "output_type": "execute_result"
    }
   ],
   "source": [
    "rdd= sc.parallelize([1,2,3,4])\n",
    "rdd_map= rdd.map(lambda x: x**2)\n",
    "rdd_map.collect()"
   ]
  },
  {
   "cell_type": "markdown",
   "id": "928eb981",
   "metadata": {},
   "source": [
    "filter() : THis transformation returns a new RDD  with elements that ***pass the condition***. "
   ]
  },
  {
   "cell_type": "code",
   "execution_count": 43,
   "id": "13f7d2c0",
   "metadata": {},
   "outputs": [
    {
     "data": {
      "text/plain": [
       "[4, 5, 6, 7]"
      ]
     },
     "execution_count": 43,
     "metadata": {},
     "output_type": "execute_result"
    }
   ],
   "source": [
    "rdd= sc.parallelize([1,2,3,4,5,6,7])\n",
    "rdd_filter= rdd.filter(lambda x: x>3)\n",
    "rdd_filter.collect()"
   ]
  },
  {
   "cell_type": "markdown",
   "id": "6fb4a7db",
   "metadata": {},
   "source": [
    "flatmap() : This returns multiple values for each element in the original RDD."
   ]
  },
  {
   "cell_type": "code",
   "execution_count": 50,
   "id": "b47ac204",
   "metadata": {},
   "outputs": [
    {
     "data": {
      "text/plain": [
       "['hello', 'world', '', 'how', 'are', 'you']"
      ]
     },
     "execution_count": 50,
     "metadata": {},
     "output_type": "execute_result"
    }
   ],
   "source": [
    "rdd= sc.parallelize([\"hello world \", \"how are you\"])\n",
    "rdd_flat= rdd.flatMap(lambda x: x.split(\" \"))\n",
    "rdd_flat.collect()"
   ]
  },
  {
   "cell_type": "code",
   "execution_count": 61,
   "id": "6d3539ec",
   "metadata": {},
   "outputs": [
    {
     "data": {
      "text/plain": [
       "['YASAMAK SAKAYA GELMEZ,',\n",
       " 'BÜYÜK BİR CİDDİYETLE YASAYACAKSIN',\n",
       " 'BİR SİNCAP GİBİ MESELA,',\n",
       " 'YANI, YASAMIN DIŞINDA VE ÖTESİNDE HİÇBİR ŞEY BEKLEMEDEN',\n",
       " 'YANI, BÜTÜN İŞİN GÜCÜN YASAMAK OLACAK.',\n",
       " 'Hello new text file']"
      ]
     },
     "execution_count": 61,
     "metadata": {},
     "output_type": "execute_result"
    }
   ],
   "source": [
    "#union() transformation\n",
    "rdd= sc.textFile(\"/Users/ahmetemintek/Desktop/new_pyspark/example_text.txt\")\n",
    "rdd_2= sc.textFile(\"/Users/ahmetemintek/Desktop/new_pyspark/example_text2.txt\")\n",
    "\n",
    "combining_rdd= rdd.union(rdd_2)\n",
    "combining_rdd.collect()"
   ]
  },
  {
   "cell_type": "markdown",
   "id": "0d2f17d4",
   "metadata": {},
   "source": [
    "**RDD Actions:** this operation returns a value after running a computation on the RDD. "
   ]
  },
  {
   "cell_type": "code",
   "execution_count": 62,
   "id": "ece318c6",
   "metadata": {},
   "outputs": [
    {
     "data": {
      "text/plain": [
       "['YASAMAK SAKAYA GELMEZ,',\n",
       " 'BÜYÜK BİR CİDDİYETLE YASAYACAKSIN',\n",
       " 'BİR SİNCAP GİBİ MESELA,']"
      ]
     },
     "execution_count": 62,
     "metadata": {},
     "output_type": "execute_result"
    }
   ],
   "source": [
    "combining_rdd.take(3)"
   ]
  },
  {
   "cell_type": "markdown",
   "id": "8d51ee8c",
   "metadata": {},
   "source": [
    "first() top() and count() actions.  <br/>\n",
    "first() prints the first element of RDD"
   ]
  },
  {
   "cell_type": "code",
   "execution_count": 63,
   "id": "24f84a21",
   "metadata": {},
   "outputs": [
    {
     "data": {
      "text/plain": [
       "'YASAMAK SAKAYA GELMEZ,'"
      ]
     },
     "execution_count": 63,
     "metadata": {},
     "output_type": "execute_result"
    }
   ],
   "source": [
    "combining_rdd.first()"
   ]
  },
  {
   "cell_type": "code",
   "execution_count": 64,
   "id": "b58829ed",
   "metadata": {},
   "outputs": [
    {
     "data": {
      "text/plain": [
       "'Hello new text file'"
      ]
     },
     "execution_count": 64,
     "metadata": {},
     "output_type": "execute_result"
    }
   ],
   "source": [
    "combining_rdd.collect()[-1]"
   ]
  },
  {
   "cell_type": "markdown",
   "id": "a0c714da",
   "metadata": {},
   "source": [
    "top(): <br/>\n",
    "Take top elements <br/>\n",
    "This method should only be used if the resulting array is expected"
   ]
  },
  {
   "cell_type": "code",
   "execution_count": 67,
   "id": "a5db13ad",
   "metadata": {},
   "outputs": [
    {
     "data": {
      "text/plain": [
       "[16, 10, 6]"
      ]
     },
     "execution_count": 67,
     "metadata": {},
     "output_type": "execute_result"
    }
   ],
   "source": [
    "rdd_top= sc.parallelize([1,2,10,16,3, 6])\n",
    "rdd_top.top(3)  # it returns list sorted in descended order. "
   ]
  },
  {
   "cell_type": "code",
   "execution_count": 68,
   "id": "b9889d9e",
   "metadata": {},
   "outputs": [
    {
     "data": {
      "text/plain": [
       "6"
      ]
     },
     "execution_count": 68,
     "metadata": {},
     "output_type": "execute_result"
    }
   ],
   "source": [
    "# count() returns the number of the elements in the RDD\n",
    "combining_rdd.count()"
   ]
  },
  {
   "cell_type": "code",
   "execution_count": 69,
   "id": "9ea69e78",
   "metadata": {},
   "outputs": [
    {
     "name": "stdout",
     "output_type": "stream",
     "text": [
      "1\n",
      "8\n",
      "27\n",
      "64\n"
     ]
    }
   ],
   "source": [
    "#example: \n",
    "num_rdd= sc.parallelize([1,2,3,4])\n",
    "cube_rdd= num_rdd.map(lambda x: x**3)\n",
    "cubes= cube_rdd.collect()\n",
    "\n",
    "for num in cubes:\n",
    "    print(num)"
   ]
  },
  {
   "cell_type": "code",
   "execution_count": 75,
   "id": "1e2432d2",
   "metadata": {},
   "outputs": [
    {
     "data": {
      "text/plain": [
       "[0, 1, 2, 3, 4, 5, 6, 7, 8, 9]"
      ]
     },
     "execution_count": 75,
     "metadata": {},
     "output_type": "execute_result"
    }
   ],
   "source": [
    "rdd1= sc.parallelize(range(10))\n",
    "rdd1.collect()"
   ]
  },
  {
   "cell_type": "markdown",
   "id": "7dbb7eec",
   "metadata": {},
   "source": [
    "### Pair RDDs\n",
    "Pair RDDs special kind of key/value type data.  <br/>\n",
    "Key is the identifier and value is data <br/>\n",
    "\n",
    "Creating Pair RDDs (there are 2 ways):\n",
    "\n",
    "- From a list of key/value tuple\n",
    "- From a regular rdd\n"
   ]
  },
  {
   "cell_type": "code",
   "execution_count": 78,
   "id": "25dc071b",
   "metadata": {},
   "outputs": [
    {
     "data": {
      "text/plain": [
       "[('ronaldo', 22), ('messi', 24), ('neymar', 26)]"
      ]
     },
     "execution_count": 78,
     "metadata": {},
     "output_type": "execute_result"
    }
   ],
   "source": [
    "#creating from tuple\n",
    "my_tuple= [(\"ronaldo\", 22), (\"messi\", 24), (\"neymar\", 26)]\n",
    "\n",
    "pairRDD_tuple= sc.parallelize(my_tuple)\n",
    "pairRDD_tuple.collect()"
   ]
  },
  {
   "cell_type": "code",
   "execution_count": 79,
   "id": "58e7183e",
   "metadata": {},
   "outputs": [
    {
     "data": {
      "text/plain": [
       "[('ronaldo', '24'), ('messi', '25'), ('neymar', '26')]"
      ]
     },
     "execution_count": 79,
     "metadata": {},
     "output_type": "execute_result"
    }
   ],
   "source": [
    "#creating from list\n",
    "my_list= [\"ronaldo 24\", \"messi 25\", \"neymar 26\"]\n",
    "\n",
    "regularRDD= sc.parallelize(my_list)\n",
    "\n",
    "pairRDD_list= regularRDD.map(lambda x: (x.split(\" \")[0], x.split(\" \")[1]))\n",
    "pairRDD_list.collect()"
   ]
  },
  {
   "cell_type": "code",
   "execution_count": 81,
   "id": "17d72243",
   "metadata": {},
   "outputs": [
    {
     "data": {
      "text/plain": [
       "[22, 24, 26]"
      ]
     },
     "execution_count": 81,
     "metadata": {},
     "output_type": "execute_result"
    }
   ],
   "source": [
    "#Fetching values from pair rdd\n",
    "pair_values= pairRDD_tuple.values()\n",
    "pair_values.collect()"
   ]
  },
  {
   "cell_type": "code",
   "execution_count": 82,
   "id": "24d997d3",
   "metadata": {},
   "outputs": [
    {
     "data": {
      "text/plain": [
       "['ronaldo', 'messi', 'neymar']"
      ]
     },
     "execution_count": 82,
     "metadata": {},
     "output_type": "execute_result"
    }
   ],
   "source": [
    "pair_keys= pairRDD_tuple.keys()\n",
    "pair_keys.collect()"
   ]
  },
  {
   "cell_type": "markdown",
   "id": "65e95257",
   "metadata": {},
   "source": [
    "**Transformations On Pair RDDs:** <br/>\n",
    "\n",
    "All regular transformers work on pair rdd. <br/>"
   ]
  },
  {
   "cell_type": "markdown",
   "id": "3e4991ba",
   "metadata": {},
   "source": [
    "Examples of pair rdd transformations: <br/>\n",
    "\n"
   ]
  },
  {
   "cell_type": "markdown",
   "id": "45be7c54",
   "metadata": {},
   "source": [
    "reduceByKey(func): Combine values with the same key <br/>\n",
    "groupByKey(): Group values with the same key <br/>\n",
    "sortByKey(): Return an RDD sorted by the key <br/>\n",
    "join(): Join two pair RDDs based on their key <br/>"
   ]
  },
  {
   "cell_type": "code",
   "execution_count": 84,
   "id": "1ec5ea58",
   "metadata": {},
   "outputs": [
    {
     "data": {
      "text/plain": [
       "[1, 4, 9, 16, 25, 1, 4]"
      ]
     },
     "execution_count": 84,
     "metadata": {},
     "output_type": "execute_result"
    }
   ],
   "source": [
    "# we can use user funstions to map on RDD\n",
    "\n",
    "def get_squares(num):\n",
    "    return num**2\n",
    "\n",
    "rdd= sc.parallelize([1,2,3,4,5,1,2])\n",
    "rdd.map(get_squares).collect()"
   ]
  },
  {
   "cell_type": "code",
   "execution_count": 86,
   "id": "4b071252",
   "metadata": {},
   "outputs": [
    {
     "data": {
      "text/plain": [
       "[1, 2, 3, 4, 5]"
      ]
     },
     "execution_count": 86,
     "metadata": {},
     "output_type": "execute_result"
    }
   ],
   "source": [
    "#finding the distinct numbers\n",
    "rdd.distinct().collect()"
   ]
  },
  {
   "cell_type": "code",
   "execution_count": 87,
   "id": "ff87007b",
   "metadata": {},
   "outputs": [
    {
     "data": {
      "text/plain": [
       "[4, 5]"
      ]
     },
     "execution_count": 87,
     "metadata": {},
     "output_type": "execute_result"
    }
   ],
   "source": [
    "#subtract\n",
    "numRDD2 = sc.parallelize([1,2,3])\n",
    "rdd.subtract(numRDD2).collect()"
   ]
  },
  {
   "cell_type": "code",
   "execution_count": 88,
   "id": "8c9fdd3c",
   "metadata": {},
   "outputs": [
    {
     "data": {
      "text/plain": [
       "[1, 2, 3]"
      ]
     },
     "execution_count": 88,
     "metadata": {},
     "output_type": "execute_result"
    }
   ],
   "source": [
    "#intersection\n",
    "rdd.intersection(numRDD2).collect()"
   ]
  },
  {
   "cell_type": "code",
   "execution_count": 91,
   "id": "dada12b4",
   "metadata": {},
   "outputs": [
    {
     "name": "stdout",
     "output_type": "stream",
     "text": [
      "1\n",
      "7\n",
      "4.0\n",
      "4.0\n",
      "2.0\n",
      "(count: 7, mean: 4.0, stdev: 2.0, max: 7, min: 1)\n",
      "{'count': 7, 'mean': 4.0, 'sum': 28.0, 'min': 1, 'max': 7, 'stdev': 2.160246899469287, 'variance': 4.666666666666667}\n"
     ]
    }
   ],
   "source": [
    "#calculating basic stats\n",
    "rdd= sc.parallelize([1,2,3,4,5,6,7])\n",
    "\n",
    "print(rdd.min())\n",
    "print(rdd.max())\n",
    "print(rdd.mean())\n",
    "print(rdd.variance())\n",
    "print(rdd.stdev())\n",
    "print(rdd.stats())\n",
    "print(rdd.stats().asDict())"
   ]
  },
  {
   "cell_type": "code",
   "execution_count": 92,
   "id": "d4ac594c",
   "metadata": {},
   "outputs": [
    {
     "data": {
      "text/plain": [
       "[('messi', 51), ('neymar', 25), ('ronaldo', 22)]"
      ]
     },
     "execution_count": 92,
     "metadata": {},
     "output_type": "execute_result"
    }
   ],
   "source": [
    "#reduceByKey() transformation combines values with the same key. \n",
    "#It is transformation, not action\n",
    "\n",
    "rdd= sc.parallelize([(\"ronaldo\", 22), (\"messi\", 24), (\"neymar\", 25), (\"messi\", 27)])\n",
    "reduce_rdd= rdd.reduceByKey(lambda x,y: x+y)\n",
    "reduce_rdd.collect()"
   ]
  },
  {
   "cell_type": "code",
   "execution_count": 95,
   "id": "f72e32e7",
   "metadata": {},
   "outputs": [
    {
     "data": {
      "text/plain": [
       "[(22, 'ronaldo'), (25, 'neymar'), (51, 'messi')]"
      ]
     },
     "execution_count": 95,
     "metadata": {},
     "output_type": "execute_result"
    }
   ],
   "source": [
    "#sortByKey() transformation orders RDD by key\n",
    "rdd_new= reduce_rdd.map(lambda x: (x[1], x[0]))\n",
    "rdd_new.sortByKey(ascending=True).collect()"
   ]
  },
  {
   "cell_type": "code",
   "execution_count": 101,
   "id": "d33eaf7e",
   "metadata": {},
   "outputs": [
    {
     "name": "stdout",
     "output_type": "stream",
     "text": [
      "UK ['LHR']\n",
      "FR ['CDG']\n",
      "US ['JFK', 'SFO']\n"
     ]
    }
   ],
   "source": [
    "# groupbykey() groups all the values with the same key in the pair RDD\n",
    "airports = [(\"US\", \"JFK\"),(\"UK\", \"LHR\"),(\"FR\", \"CDG\"),(\"US\", \"SFO\")]\n",
    "\n",
    "rdd= sc.parallelize(airports)\n",
    "rdd_group= rdd.groupByKey().collect()\n",
    "\n",
    "for count, air in rdd_group:\n",
    "    print(count, list(air))"
   ]
  },
  {
   "cell_type": "code",
   "execution_count": 102,
   "id": "c548cb1d",
   "metadata": {},
   "outputs": [
    {
     "data": {
      "text/plain": [
       "[('Messi', (34, 100)), ('Neymar', (24, 120)), ('Ronaldo', (32, 80))]"
      ]
     },
     "execution_count": 102,
     "metadata": {},
     "output_type": "execute_result"
    }
   ],
   "source": [
    "# join() transformation joins the two pair RDDs based on their key\n",
    "RDD1 = sc.parallelize([(\"Messi\", 34),(\"Ronaldo\", 32),(\"Neymar\", 24)])\n",
    "\n",
    "RDD2 = sc.parallelize([(\"Ronaldo\", 80),(\"Neymar\", 120),(\"Messi\", 100)])\n",
    "\n",
    "RDD1.join(RDD2).collect()"
   ]
  },
  {
   "cell_type": "code",
   "execution_count": 103,
   "id": "64d3bb28",
   "metadata": {},
   "outputs": [
    {
     "data": {
      "text/plain": [
       "10"
      ]
     },
     "execution_count": 103,
     "metadata": {},
     "output_type": "execute_result"
    }
   ],
   "source": [
    "#reduce() action\n",
    "# reduce(func) action is used for aggregating the elements of a regular RDD\n",
    "x= [1,2,3,4]\n",
    "rdd= sc.parallelize(x)\n",
    "rdd.reduce(lambda x,y: x+y)"
   ]
  },
  {
   "cell_type": "code",
   "execution_count": 105,
   "id": "8ff1fcba",
   "metadata": {},
   "outputs": [
    {
     "name": "stdout",
     "output_type": "stream",
     "text": [
      "a 3\n",
      "b 1\n"
     ]
    }
   ],
   "source": [
    "#countByKey action\n",
    "# countByKey() only available for type (K, V)\n",
    "# countByKey() action counts the number of elements for each key\n",
    "\n",
    "rdd= sc.parallelize([(\"a\", 1), (\"b\", 2), (\"a\", 3), (\"a\", 1)])\n",
    "items= rdd.countByKey().items()\n",
    "\n",
    "for key, value in items:\n",
    "    print(key, value)"
   ]
  },
  {
   "cell_type": "code",
   "execution_count": 106,
   "id": "94f782a8",
   "metadata": {},
   "outputs": [
    {
     "data": {
      "text/plain": [
       "{1: 3, 2: 6}"
      ]
     },
     "execution_count": 106,
     "metadata": {},
     "output_type": "execute_result"
    }
   ],
   "source": [
    "# collectAsMap() activation returns the key-value pairs in RDD as dictionary\n",
    "\n",
    "sc.parallelize([(1, 3), (2, 6)]).collectAsMap()"
   ]
  },
  {
   "cell_type": "markdown",
   "id": "30ea03ea",
   "metadata": {},
   "source": [
    "**Word Count Example**"
   ]
  },
  {
   "cell_type": "code",
   "execution_count": 108,
   "id": "aa4c2253",
   "metadata": {},
   "outputs": [
    {
     "data": {
      "text/plain": [
       "[(12, 'the'),\n",
       " (8, 'A'),\n",
       " (6, 'I'),\n",
       " (4, 'of'),\n",
       " (4, 'Philadelphia'),\n",
       " (4, 'from'),\n",
       " (4, 'To'),\n",
       " (4, 'to'),\n",
       " (3, 'am'),\n",
       " (3, 'Geordie')]"
      ]
     },
     "execution_count": 108,
     "metadata": {},
     "output_type": "execute_result"
    }
   ],
   "source": [
    "text_file= sc.textFile(\"philly_text.txt\")\n",
    "counts_rdd= text_file.flatMap(lambda line: line.split(\" \"))\\\n",
    "                        .map(lambda word: (word, 1))\\\n",
    "                        .reduceByKey(lambda x, y: x+y)\n",
    "\n",
    "#to print results\n",
    "counts_rdd.map(lambda x: (x[1], x[0]))\\\n",
    "            .sortByKey(ascending=False)\\\n",
    "            .collect()[:10]"
   ]
  },
  {
   "cell_type": "code",
   "execution_count": null,
   "id": "ccd878db",
   "metadata": {},
   "outputs": [],
   "source": []
  },
  {
   "cell_type": "code",
   "execution_count": null,
   "id": "51c80aee",
   "metadata": {},
   "outputs": [],
   "source": []
  }
 ],
 "metadata": {
  "kernelspec": {
   "display_name": "project-nlp",
   "language": "python",
   "name": "project-nlp"
  },
  "language_info": {
   "codemirror_mode": {
    "name": "ipython",
    "version": 3
   },
   "file_extension": ".py",
   "mimetype": "text/x-python",
   "name": "python",
   "nbconvert_exporter": "python",
   "pygments_lexer": "ipython3",
   "version": "3.7.7"
  }
 },
 "nbformat": 4,
 "nbformat_minor": 5
}
