{
 "cells": [
  {
   "cell_type": "markdown",
   "metadata": {},
   "source": [
    "# Pyspark 2: DataFrame"
   ]
  },
  {
   "cell_type": "markdown",
   "metadata": {},
   "source": [
    "To start working with dataframes, we have to create **SparkSession** object from our SparkContext object. <br/>\n",
    "We can think SparkContext object as a connection with cluster, SparkSession as our interface with the connection <br/> \n",
    "**SparkSession** is an entry point to dataframe API. "
   ]
  },
  {
   "cell_type": "code",
   "execution_count": 3,
   "metadata": {},
   "outputs": [],
   "source": [
    "from pyspark import SparkContext\n",
    "from pyspark.sql import SQLContext\n",
    "from pyspark.sql import SparkSession\n",
    "import warnings"
   ]
  },
  {
   "cell_type": "code",
   "execution_count": 4,
   "metadata": {},
   "outputs": [],
   "source": [
    "sc= SparkContext(appName=\"SSDM\", master=\"local[*]\").getOrCreate()"
   ]
  },
  {
   "cell_type": "code",
   "execution_count": 5,
   "metadata": {},
   "outputs": [
    {
     "data": {
      "text/plain": [
       "'2.4.4'"
      ]
     },
     "execution_count": 5,
     "metadata": {},
     "output_type": "execute_result"
    }
   ],
   "source": [
    "ss = SparkSession.builder.appName('SDDM_2').getOrCreate()\n",
    "ss.version"
   ]
  },
  {
   "cell_type": "markdown",
   "metadata": {},
   "source": [
    "**Creating Dataframe in spark  (There are 2 different methods.)**\n",
    "- From existing RDDS by using SparkSession's createDataFrame() method <br/>\n",
    "- From various data sources; CSV, JSON, TXT by using SparkSession read method. \n",
    "\n",
    "Schema controls the data and provides info about column name, type of data inthe column, empty values etc. "
   ]
  },
  {
   "cell_type": "code",
   "execution_count": 16,
   "metadata": {},
   "outputs": [
    {
     "name": "stdout",
     "output_type": "stream",
     "text": [
      "+-----+----+\n",
      "|model|year|\n",
      "+-----+----+\n",
      "|   XS|2018|\n",
      "|   XR|2018|\n",
      "|  X10|2017|\n",
      "|8Plus|2017|\n",
      "+-----+----+\n",
      "\n"
     ]
    }
   ],
   "source": [
    "#create dataframe from RDD. \n",
    "iphone_rdd= sc.parallelize([\n",
    "    (\"XS\", 2018),\n",
    "    (\"XR\", 2018),\n",
    "    (\"X10\", 2017),\n",
    "    (\"8Plus\", 2017)\n",
    "])\n",
    "\n",
    "names= [\"model\", \"year\"]\n",
    "\n",
    "df= ss.createDataFrame(iphone_rdd, schema=names)\n",
    "df.show()"
   ]
  },
  {
   "cell_type": "code",
   "execution_count": 17,
   "metadata": {},
   "outputs": [
    {
     "name": "stdout",
     "output_type": "stream",
     "text": [
      "root\n",
      " |-- model: string (nullable = true)\n",
      " |-- year: long (nullable = true)\n",
      "\n"
     ]
    }
   ],
   "source": [
    "df.printSchema()  #prints the type of columns"
   ]
  },
  {
   "cell_type": "code",
   "execution_count": 9,
   "metadata": {},
   "outputs": [
    {
     "name": "stdout",
     "output_type": "stream",
     "text": [
      "+-----------+----+----------+----------------+---------------+-------------+-------+----------------------+-----------+--------+-----+------------------+-----+-----------------+-----------+---------+----------+----------+---------------------+-------------------+-------------------------------+---------+\n",
      "|    Country|Year|    Status|Life expectancy |Adult Mortality|infant deaths|Alcohol|percentage expenditure|Hepatitis B|Measles | BMI |under-five deaths |Polio|Total expenditure|Diphtheria | HIV/AIDS|       GDP|Population| thinness  1-19 years| thinness 5-9 years|Income composition of resources|Schooling|\n",
      "+-----------+----+----------+----------------+---------------+-------------+-------+----------------------+-----------+--------+-----+------------------+-----+-----------------+-----------+---------+----------+----------+---------------------+-------------------+-------------------------------+---------+\n",
      "|Afghanistan|2015|Developing|              65|            263|           62|   0.01|           71.27962362|         65|    1154| 19.1|                83|    6|             8.16|         65|      0.1| 584.25921|  33736494|                 17.2|               17.3|                          0.479|     10.1|\n",
      "|Afghanistan|2014|Developing|            59.9|            271|           64|   0.01|           73.52358168|         62|     492| 18.6|                86|   58|             8.18|         62|      0.1|612.696514|    327582|                 17.5|               17.5|                          0.476|       10|\n",
      "|Afghanistan|2013|Developing|            59.9|            268|           66|   0.01|           73.21924272|         64|     430| 18.1|                89|   62|             8.13|         64|      0.1|631.744976|  31731688|                 17.7|               17.7|                           0.47|      9.9|\n",
      "|Afghanistan|2012|Developing|            59.5|            272|           69|   0.01|            78.1842153|         67|    2787| 17.6|                93|   67|             8.52|         67|      0.1|   669.959|   3696958|                 17.9|                 18|                          0.463|      9.8|\n",
      "|Afghanistan|2011|Developing|            59.2|            275|           71|   0.01|           7.097108703|         68|    3013| 17.2|                97|   68|             7.87|         68|      0.1| 63.537231|   2978599|                 18.2|               18.2|                          0.454|      9.5|\n",
      "+-----------+----+----------+----------------+---------------+-------------+-------+----------------------+-----------+--------+-----+------------------+-----+-----------------+-----------+---------+----------+----------+---------------------+-------------------+-------------------------------+---------+\n",
      "only showing top 5 rows\n",
      "\n"
     ]
    }
   ],
   "source": [
    "#creating dataframe by reading csv/json/txt file\n",
    "\n",
    "df_csv= ss.read.csv(\"Life_Expectancy_Data.csv\",\n",
    "                      header=True, inferSchema=False)\n",
    "\n",
    "df_csv.show(5)"
   ]
  },
  {
   "cell_type": "code",
   "execution_count": 26,
   "metadata": {},
   "outputs": [
    {
     "name": "stdout",
     "output_type": "stream",
     "text": [
      "root\n",
      " |-- Country: string (nullable = true)\n",
      " |-- Year: string (nullable = true)\n",
      " |-- Status: string (nullable = true)\n",
      " |-- Life expectancy : string (nullable = true)\n",
      " |-- Adult Mortality: string (nullable = true)\n",
      " |-- infant deaths: string (nullable = true)\n",
      " |-- Alcohol: string (nullable = true)\n",
      " |-- percentage expenditure: string (nullable = true)\n",
      " |-- Hepatitis B: string (nullable = true)\n",
      " |-- Measles : string (nullable = true)\n",
      " |--  BMI : string (nullable = true)\n",
      " |-- under-five deaths : string (nullable = true)\n",
      " |-- Polio: string (nullable = true)\n",
      " |-- Total expenditure: string (nullable = true)\n",
      " |-- Diphtheria : string (nullable = true)\n",
      " |--  HIV/AIDS: string (nullable = true)\n",
      " |-- GDP: string (nullable = true)\n",
      " |-- Population: string (nullable = true)\n",
      " |--  thinness  1-19 years: string (nullable = true)\n",
      " |--  thinness 5-9 years: string (nullable = true)\n",
      " |-- Income composition of resources: string (nullable = true)\n",
      " |-- Schooling: string (nullable = true)\n",
      "\n"
     ]
    }
   ],
   "source": [
    "df_csv.printSchema()"
   ]
  },
  {
   "cell_type": "markdown",
   "metadata": {},
   "source": [
    "#### DataFrame operations in Pysprak\n",
    "DataFrame transformations: <br/>\n",
    "- select() \n",
    "- filter()\n",
    "- groupby()\n",
    "- dropDuplicates()\n",
    "- withColumnRenamed()\n",
    "\n",
    "DataFRame Actions: <br/>\n",
    "- printSchema()\n",
    "- head()\n",
    "- show()\n",
    "- count()\n",
    "- columns()\n",
    "- describe()"
   ]
  },
  {
   "cell_type": "code",
   "execution_count": 4,
   "metadata": {},
   "outputs": [],
   "source": [
    "! wget -q -O - https://s3.amazonaws.com/nyc-tlc/trip+data/fhv_tripdata_2017-06.csv | head -n 5000 > tmp.csv\n"
   ]
  },
  {
   "cell_type": "code",
   "execution_count": 7,
   "metadata": {},
   "outputs": [
    {
     "name": "stdout",
     "output_type": "stream",
     "text": [
      "root\n",
      " |-- Dispatching_base_num: string (nullable = true)\n",
      " |-- Pickup_DateTime: timestamp (nullable = true)\n",
      " |-- DropOff_datetime: timestamp (nullable = true)\n",
      " |-- PUlocationID: integer (nullable = true)\n",
      " |-- DOlocationID: integer (nullable = true)\n",
      "\n"
     ]
    }
   ],
   "source": [
    "df= ss.read.csv(\"tmp.csv\", header=True, inferSchema=True)\n",
    "df.printSchema()"
   ]
  },
  {
   "cell_type": "code",
   "execution_count": 12,
   "metadata": {},
   "outputs": [],
   "source": [
    "df= df_csv"
   ]
  },
  {
   "cell_type": "code",
   "execution_count": 13,
   "metadata": {},
   "outputs": [
    {
     "name": "stdout",
     "output_type": "stream",
     "text": [
      "+-----------+----+----------+----------------+---------------+-------------+-------+----------------------+-----------+--------+-----+------------------+-----+-----------------+-----------+---------+----------+----------+---------------------+-------------------+-------------------------------+---------+\n",
      "|    Country|Year|    Status|Life expectancy |Adult Mortality|infant deaths|Alcohol|percentage expenditure|Hepatitis B|Measles | BMI |under-five deaths |Polio|Total expenditure|Diphtheria | HIV/AIDS|       GDP|Population| thinness  1-19 years| thinness 5-9 years|Income composition of resources|Schooling|\n",
      "+-----------+----+----------+----------------+---------------+-------------+-------+----------------------+-----------+--------+-----+------------------+-----+-----------------+-----------+---------+----------+----------+---------------------+-------------------+-------------------------------+---------+\n",
      "|Afghanistan|2015|Developing|              65|            263|           62|   0.01|           71.27962362|         65|    1154| 19.1|                83|    6|             8.16|         65|      0.1| 584.25921|  33736494|                 17.2|               17.3|                          0.479|     10.1|\n",
      "|Afghanistan|2014|Developing|            59.9|            271|           64|   0.01|           73.52358168|         62|     492| 18.6|                86|   58|             8.18|         62|      0.1|612.696514|    327582|                 17.5|               17.5|                          0.476|       10|\n",
      "|Afghanistan|2013|Developing|            59.9|            268|           66|   0.01|           73.21924272|         64|     430| 18.1|                89|   62|             8.13|         64|      0.1|631.744976|  31731688|                 17.7|               17.7|                           0.47|      9.9|\n",
      "|Afghanistan|2012|Developing|            59.5|            272|           69|   0.01|            78.1842153|         67|    2787| 17.6|                93|   67|             8.52|         67|      0.1|   669.959|   3696958|                 17.9|                 18|                          0.463|      9.8|\n",
      "|Afghanistan|2011|Developing|            59.2|            275|           71|   0.01|           7.097108703|         68|    3013| 17.2|                97|   68|             7.87|         68|      0.1| 63.537231|   2978599|                 18.2|               18.2|                          0.454|      9.5|\n",
      "+-----------+----+----------+----------------+---------------+-------------+-------+----------------------+-----------+--------+-----+------------------+-----+-----------------+-----------+---------+----------+----------+---------------------+-------------------+-------------------------------+---------+\n",
      "only showing top 5 rows\n",
      "\n"
     ]
    }
   ],
   "source": [
    "df.show(5)"
   ]
  },
  {
   "cell_type": "code",
   "execution_count": 14,
   "metadata": {},
   "outputs": [
    {
     "data": {
      "text/plain": [
       "2938"
      ]
     },
     "execution_count": 14,
     "metadata": {},
     "output_type": "execute_result"
    }
   ],
   "source": [
    "df.count()"
   ]
  },
  {
   "cell_type": "code",
   "execution_count": 18,
   "metadata": {},
   "outputs": [
    {
     "name": "stdout",
     "output_type": "stream",
     "text": [
      "+----+\n",
      "|Year|\n",
      "+----+\n",
      "|2015|\n",
      "|2014|\n",
      "|2013|\n",
      "|2012|\n",
      "|2011|\n",
      "+----+\n",
      "only showing top 5 rows\n",
      "\n"
     ]
    }
   ],
   "source": [
    "# select() trnasformation subsets the columns in the dataframe\n",
    "df_year= df.select(\"Year\")\n",
    "df_year.show(5)"
   ]
  },
  {
   "cell_type": "code",
   "execution_count": 27,
   "metadata": {},
   "outputs": [
    {
     "name": "stdout",
     "output_type": "stream",
     "text": [
      "+----+\n",
      "|Year|\n",
      "+----+\n",
      "|2015|\n",
      "|2014|\n",
      "|2013|\n",
      "|2015|\n",
      "|2014|\n",
      "+----+\n",
      "only showing top 5 rows\n",
      "\n"
     ]
    }
   ],
   "source": [
    "# filter transformation filters out the rows based on condition\n",
    "df_filtered= df_year.filter(df_year[\"Year\"]>2012)\n",
    "df_filtered.show(5)"
   ]
  },
  {
   "cell_type": "code",
   "execution_count": 28,
   "metadata": {},
   "outputs": [
    {
     "name": "stdout",
     "output_type": "stream",
     "text": [
      "+----+\n",
      "|Year|\n",
      "+----+\n",
      "|2015|\n",
      "|2014|\n",
      "|2013|\n",
      "|2015|\n",
      "|2014|\n",
      "+----+\n",
      "only showing top 5 rows\n",
      "\n"
     ]
    }
   ],
   "source": [
    "# we can also use square brackets like in pandas instead of filter()\n",
    "df_year[df_year.Year>2012].show(5)"
   ]
  },
  {
   "cell_type": "code",
   "execution_count": 31,
   "metadata": {},
   "outputs": [
    {
     "name": "stdout",
     "output_type": "stream",
     "text": [
      "+-------+----+----------+----------------+---------------+-------------+-------+----------------------+-----------+--------+-----+------------------+-----+-----------------+-----------+---------+-----------+----------+---------------------+-------------------+-------------------------------+---------+\n",
      "|Country|Year|    Status|Life expectancy |Adult Mortality|infant deaths|Alcohol|percentage expenditure|Hepatitis B|Measles | BMI |under-five deaths |Polio|Total expenditure|Diphtheria | HIV/AIDS|        GDP|Population| thinness  1-19 years| thinness 5-9 years|Income composition of resources|Schooling|\n",
      "+-------+----+----------+----------------+---------------+-------------+-------+----------------------+-----------+--------+-----+------------------+-----+-----------------+-----------+---------+-----------+----------+---------------------+-------------------+-------------------------------+---------+\n",
      "| Turkey|2015|Developing|            75.8|             16|           15|   null|                     0|         97|     342| 66.1|                18|   97|             null|         97|      0.1| 1979.52569|  78271472|                  4.9|                4.8|                          0.764|     14.5|\n",
      "| Turkey|2014|Developing|            75.5|             17|           16|   1.45|           181.9083783|         96|     565| 65.3|                19|   96|             5.41|         96|      0.1|12127.22522|    773628|                  4.9|                4.7|                          0.759|     14.5|\n",
      "| Turkey|2013|Developing|            75.2|             19|           17|   1.41|           188.1440348|         97|    7405| 64.5|                20|   98|             5.38|         98|      0.1|12542.93565|  75787333|                  4.9|                4.7|                          0.754|     14.4|\n",
      "+-------+----+----------+----------------+---------------+-------------+-------+----------------------+-----------+--------+-----+------------------+-----+-----------------+-----------+---------+-----------+----------+---------------------+-------------------+-------------------------------+---------+\n",
      "\n"
     ]
    }
   ],
   "source": [
    "df[(df.Year>2012) & (df.Country==\"Turkey\")].show()"
   ]
  },
  {
   "cell_type": "code",
   "execution_count": 35,
   "metadata": {},
   "outputs": [
    {
     "name": "stdout",
     "output_type": "stream",
     "text": [
      "+-----------+----+----------------+\n",
      "|    Country|Year|Life expectancy |\n",
      "+-----------+----+----------------+\n",
      "|Afghanistan|2015|              65|\n",
      "|Afghanistan|2014|            59.9|\n",
      "|Afghanistan|2013|            59.9|\n",
      "|Afghanistan|2012|            59.5|\n",
      "|Afghanistan|2011|            59.2|\n",
      "+-----------+----+----------------+\n",
      "only showing top 5 rows\n",
      "\n"
     ]
    }
   ],
   "source": [
    "df= df.select(\"Country\", \"Year\", \"Life expectancy \")\n",
    "df.show(5)"
   ]
  },
  {
   "cell_type": "code",
   "execution_count": 37,
   "metadata": {},
   "outputs": [
    {
     "name": "stdout",
     "output_type": "stream",
     "text": [
      "+--------------------+-----+\n",
      "|             Country|count|\n",
      "+--------------------+-----+\n",
      "|       Côte d'Ivoire|   16|\n",
      "|                Chad|   16|\n",
      "|Micronesia (Feder...|   16|\n",
      "|            Paraguay|   16|\n",
      "|               Yemen|   16|\n",
      "|             Senegal|   16|\n",
      "|          Cabo Verde|   16|\n",
      "|              Sweden|   16|\n",
      "|            Kiribati|   16|\n",
      "|   Republic of Korea|   16|\n",
      "|              Guyana|   16|\n",
      "|             Eritrea|   16|\n",
      "|         Philippines|   16|\n",
      "|            Djibouti|   16|\n",
      "|               Tonga|   16|\n",
      "|            Malaysia|   16|\n",
      "|           Singapore|   16|\n",
      "|                Fiji|   16|\n",
      "|              Turkey|   16|\n",
      "|              Malawi|   16|\n",
      "+--------------------+-----+\n",
      "only showing top 20 rows\n",
      "\n"
     ]
    }
   ],
   "source": [
    "# groupby() operation can be used to grouping variables. \n",
    "df_group= df.groupby(\"Country\")\n",
    "df_group.count().show()"
   ]
  },
  {
   "cell_type": "code",
   "execution_count": 38,
   "metadata": {},
   "outputs": [
    {
     "name": "stdout",
     "output_type": "stream",
     "text": [
      "+--------------------+-----+\n",
      "|             Country|count|\n",
      "+--------------------+-----+\n",
      "|         Afghanistan|   16|\n",
      "|             Albania|   16|\n",
      "|             Algeria|   16|\n",
      "|              Angola|   16|\n",
      "| Antigua and Barbuda|   16|\n",
      "|           Argentina|   16|\n",
      "|             Armenia|   16|\n",
      "|           Australia|   16|\n",
      "|             Austria|   16|\n",
      "|          Azerbaijan|   16|\n",
      "|             Bahamas|   16|\n",
      "|             Bahrain|   16|\n",
      "|          Bangladesh|   16|\n",
      "|            Barbados|   16|\n",
      "|             Belarus|   16|\n",
      "|             Belgium|   16|\n",
      "|              Belize|   16|\n",
      "|               Benin|   16|\n",
      "|              Bhutan|   16|\n",
      "|Bolivia (Plurinat...|   16|\n",
      "+--------------------+-----+\n",
      "only showing top 20 rows\n",
      "\n"
     ]
    }
   ],
   "source": [
    "# orderby() operations sorts the DataFrame based on or more columns\n",
    "df_group.count().orderBy(\"Country\").show()"
   ]
  },
  {
   "cell_type": "code",
   "execution_count": 50,
   "metadata": {},
   "outputs": [
    {
     "data": {
      "text/plain": [
       "['Country', 'Year', 'life_excpectancy', 'new_col']"
      ]
     },
     "execution_count": 50,
     "metadata": {},
     "output_type": "execute_result"
    }
   ],
   "source": [
    "# withColumnRenamed renames the column in dataframe \n",
    "df= df.withColumnRenamed(\"Life expectancy \", \"life_expectancy\")\n",
    "df.columns"
   ]
  },
  {
   "cell_type": "code",
   "execution_count": 54,
   "metadata": {},
   "outputs": [
    {
     "data": {
      "text/plain": [
       "['Country', 'Year', 'life_expectancy', 'new_col']"
      ]
     },
     "execution_count": 54,
     "metadata": {},
     "output_type": "execute_result"
    }
   ],
   "source": [
    "# creating a new column from existing one\n",
    "df= df.withColumn(\"new_col\", df[\"Year\"]/df[\"life_excpectancy\"])\n",
    "df= df.withColumnRenamed(\"life_excpectancy\", \"life_expectancy\")\n",
    "df.columns"
   ]
  },
  {
   "cell_type": "code",
   "execution_count": 55,
   "metadata": {},
   "outputs": [],
   "source": [
    "#droping a column\n",
    "df= df.drop(\"country\") #no axis concept"
   ]
  },
  {
   "cell_type": "markdown",
   "metadata": {},
   "source": [
    "#### Pandafy Spark Dataframe"
   ]
  },
  {
   "cell_type": "code",
   "execution_count": 57,
   "metadata": {},
   "outputs": [],
   "source": [
    "import pandas as pd\n",
    "import numpy as np"
   ]
  },
  {
   "cell_type": "code",
   "execution_count": 59,
   "metadata": {},
   "outputs": [
    {
     "name": "stdout",
     "output_type": "stream",
     "text": [
      "+-------------------+\n",
      "|                  0|\n",
      "+-------------------+\n",
      "| 0.6830589835151355|\n",
      "|  0.938442031648775|\n",
      "| 0.6620537182398036|\n",
      "| 0.4810336711302572|\n",
      "| 0.8248168948038054|\n",
      "|0.29155925927581894|\n",
      "|  0.380027726730344|\n",
      "| 0.2863062436454975|\n",
      "| 0.2773653857807624|\n",
      "|0.04542075900012721|\n",
      "+-------------------+\n",
      "\n"
     ]
    }
   ],
   "source": [
    "#create pandas dataframe\n",
    "pd_temp= pd.DataFrame(np.random.random(10))\n",
    "\n",
    "# create spark df from pd_temp\n",
    "spark_temp= ss.createDataFrame(pd_temp)\n",
    "spark_temp.show()"
   ]
  },
  {
   "cell_type": "code",
   "execution_count": 6,
   "metadata": {},
   "outputs": [],
   "source": [
    "import numpy as np\n",
    "import pandas as pd"
   ]
  },
  {
   "cell_type": "code",
   "execution_count": 7,
   "metadata": {},
   "outputs": [],
   "source": [
    "import pyspark.sql.functions as F"
   ]
  },
  {
   "cell_type": "code",
   "execution_count": 8,
   "metadata": {},
   "outputs": [],
   "source": [
    "sc.stop()"
   ]
  },
  {
   "cell_type": "code",
   "execution_count": 9,
   "metadata": {},
   "outputs": [],
   "source": [
    "ss.stop()"
   ]
  },
  {
   "cell_type": "code",
   "execution_count": null,
   "metadata": {},
   "outputs": [],
   "source": []
  }
 ],
 "metadata": {
  "kernelspec": {
   "display_name": "project-nlp",
   "language": "python",
   "name": "project-nlp"
  },
  "language_info": {
   "codemirror_mode": {
    "name": "ipython",
    "version": 3
   },
   "file_extension": ".py",
   "mimetype": "text/x-python",
   "name": "python",
   "nbconvert_exporter": "python",
   "pygments_lexer": "ipython3",
   "version": "3.7.7"
  }
 },
 "nbformat": 4,
 "nbformat_minor": 5
}
